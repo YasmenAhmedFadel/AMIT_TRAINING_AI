{
 "cells": [
  {
   "cell_type": "code",
   "execution_count": 4,
   "metadata": {},
   "outputs": [
    {
     "name": "stdout",
     "output_type": "stream",
     "text": [
      "Calling protected member of base class:  2\n",
      "Calling modified protected member outside class:  3\n",
      "Accessing protected member of obj1:  3\n",
      "Accessing protected member of obj2:  2\n"
     ]
    }
   ],
   "source": [
    "class Base:\n",
    "    def __init__(self):\n",
    "        # Protected member\n",
    "        self._a = 2\n",
    "# Creating a derived class\n",
    "class Derived(Base):\n",
    "    def __init__(self):\n",
    "        # Calling constructor of\n",
    "        # Base class\n",
    "        Base.__init__(self)\n",
    "        print(\"Calling protected member of base class: \",self._a)\n",
    "        # Modify the protected variable:\n",
    "        self._a = 3\n",
    "        print(\"Calling modified protected member outside class: \",self._a)\n",
    "obj1 = Derived()\n",
    "obj2 = Base()\n",
    "# Calling protected member\n",
    "# Can be accessed but should not be done due to convention\n",
    "print(\"Accessing protected member of obj1: \", obj1._a)\n",
    "# Accessing the protected variable outside\n",
    "print(\"Accessing protected member of obj2: \", obj2._a)"
   ]
  },
  {
   "cell_type": "code",
   "execution_count": 8,
   "metadata": {},
   "outputs": [
    {
     "name": "stdout",
     "output_type": "stream",
     "text": [
      "Volume of a rectangle: 144\n",
      "Volume of a circle: 2089.9840000000004\n",
      "Volume of a square: 125\n",
      "Volume of a triangle: 10.0\n"
     ]
    }
   ],
   "source": [
    "from abc import ABC\n",
    "class geometric(ABC):\n",
    "    def volume(self):\n",
    "#abstract method\n",
    "     pass\n",
    "class Rect(geometric):\n",
    " length = 4\n",
    " width = 6\n",
    " height= 6\n",
    " def volume(self):\n",
    "  return self.length * self.width *self.height\n",
    "class Sphere(geometric):\n",
    "  radius = 8\n",
    "  def volume(self):\n",
    "   return 1.3 * 3.14 * self.radius * self.radius *self.radius\n",
    "class Cube(geometric):\n",
    " Edge = 5\n",
    " def volume(self):\n",
    "  return self.Edge * self.Edge *self.Edge\n",
    "class triangle_3D:\n",
    " length = 5\n",
    " width = 4\n",
    " def volume(self):\n",
    "  return 0.5 * self.length * self.width\n",
    "rr = Rect()\n",
    "ss = Sphere()\n",
    "cc = Cube()\n",
    "tt = triangle_3D()\n",
    "print(\"Volume of a rectangle:\", rr.volume())\n",
    "print(\"Volume of a circle:\", ss.volume())\n",
    "print(\"Volume of a square:\", cc.volume())\n",
    "print(\"Volume of a triangle:\", tt.volume())"
   ]
  }
 ],
 "metadata": {
  "kernelspec": {
   "display_name": "Python 3.10.5 64-bit",
   "language": "python",
   "name": "python3"
  },
  "language_info": {
   "codemirror_mode": {
    "name": "ipython",
    "version": 3
   },
   "file_extension": ".py",
   "mimetype": "text/x-python",
   "name": "python",
   "nbconvert_exporter": "python",
   "pygments_lexer": "ipython3",
   "version": "3.10.5"
  },
  "orig_nbformat": 4,
  "vscode": {
   "interpreter": {
    "hash": "e593ac106456af50ce7af38f9671c411b49d6cd90f9b885e167f0f594e09038c"
   }
  }
 },
 "nbformat": 4,
 "nbformat_minor": 2
}
