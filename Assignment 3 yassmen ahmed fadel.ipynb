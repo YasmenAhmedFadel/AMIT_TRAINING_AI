{
 "cells": [
  {
   "cell_type": "markdown",
   "metadata": {},
   "source": [
    "# Assignment 3"
   ]
  },
  {
   "cell_type": "code",
   "execution_count": null,
   "metadata": {},
   "outputs": [],
   "source": []
  },
  {
   "cell_type": "markdown",
   "metadata": {},
   "source": [
    "### Write a function to count the number 4 in a given list."
   ]
  },
  {
   "cell_type": "code",
   "execution_count": 27,
   "metadata": {},
   "outputs": [
    {
     "name": "stdout",
     "output_type": "stream",
     "text": [
      "2\n"
     ]
    }
   ],
   "source": [
    "\n",
    " \n",
    "list1 = [1, 2, 3, 4, 4, 5, 6]\n",
    " \n",
    "print(list1.count(4))"
   ]
  },
  {
   "cell_type": "markdown",
   "metadata": {},
   "source": [
    "### write a  function to check whether a number is divisible by another number."
   ]
  },
  {
   "cell_type": "code",
   "execution_count": 41,
   "metadata": {},
   "outputs": [
    {
     "name": "stdout",
     "output_type": "stream",
     "text": [
      "05\n",
      "06\n",
      "cant ability\n"
     ]
    },
    {
     "data": {
      "text/plain": [
       "'yas'"
      ]
     },
     "execution_count": 41,
     "metadata": {},
     "output_type": "execute_result"
    }
   ],
   "source": [
    "def number(x,y):\n",
    "    if x % y ==0:\n",
    "        print(\"abilitry\")\n",
    "    else:\n",
    "            print(\"cant ability\")\n",
    "    return \"yas\"\n",
    "\n",
    "x=input(int())\n",
    "y=input(int())\n",
    "\n",
    "number(5,6)"
   ]
  },
  {
   "cell_type": "markdown",
   "metadata": {},
   "source": [
    "### write a function to find the maximum and minimum numbers from a sequence of numbers."
   ]
  },
  {
   "cell_type": "code",
   "execution_count": 4,
   "metadata": {},
   "outputs": [
    {
     "name": "stdout",
     "output_type": "stream",
     "text": [
      "(454854, 0)\n"
     ]
    }
   ],
   "source": [
    "def maxandmin(x):\n",
    "  a = x[0]\n",
    "  b = x[0]\n",
    "  for num in x:\n",
    "    if num> a:\n",
    "      a = num\n",
    "    elif num< b:\n",
    "        b = num\n",
    "  return a, b\n",
    "\n",
    "print(maxandmin([1,2,3,4,56,0,8,6,4,5,546,454854,5]))"
   ]
  },
  {
   "cell_type": "markdown",
   "metadata": {},
   "source": [
    "### Write a Python function that takes two lists and returns True if they have at least one common member."
   ]
  },
  {
   "cell_type": "code",
   "execution_count": 45,
   "metadata": {},
   "outputs": [
    {
     "name": "stdout",
     "output_type": "stream",
     "text": [
      "True\n",
      "False\n"
     ]
    }
   ],
   "source": [
    "def common_data (list1, list2) :\n",
    "    result = False\n",
    "    for x in list1 :\n",
    "        for y in list2 :\n",
    "            if x == y :\n",
    "                result = True\n",
    "    return result\n",
    "\n",
    "print (common_data ([1, 2, 3, 4, 5], [2, 6, 7, 8, 9]))\n",
    "print (common_data ([1, 2, 3, 4, 5], [10, 7, 8, 9]))"
   ]
  },
  {
   "cell_type": "markdown",
   "metadata": {},
   "source": [
    "### Write a Python function to calculate the factorial of a number (a non-negative integer). The function accepts the number from the user"
   ]
  },
  {
   "cell_type": "code",
   "execution_count": null,
   "metadata": {},
   "outputs": [
    {
     "name": "stdout",
     "output_type": "stream",
     "text": [
      "the number tou want to factorial is : 2\n"
     ]
    }
   ],
   "source": [
    "def factorial(x):\n",
    "    if x == 0:\n",
    "        return \"not ability\"\n",
    "    else:\n",
    "        return n * factorial(n-1)\n",
    "n=int(input(\"the number tou want to factorial is : \"))\n",
    "print(factorial(n)) "
   ]
  },
  {
   "cell_type": "markdown",
   "metadata": {},
   "source": [
    "### Write a Python function to check whether a number is in a given range.\n",
    "\n",
    "### The range is from 3 to 11\n"
   ]
  },
  {
   "cell_type": "code",
   "execution_count": 11,
   "metadata": {},
   "outputs": [
    {
     "name": "stdout",
     "output_type": "stream",
     "text": [
      " outside the given range.\n"
     ]
    }
   ],
   "source": [
    "def definationrange(x):\n",
    "    if x in range(3,9):\n",
    "        print( \"  in the range\")\n",
    "    else :\n",
    "        print(\" outside the given range.\")\n",
    "definationrange(2)"
   ]
  },
  {
   "cell_type": "markdown",
   "metadata": {},
   "source": [
    "### Write a  program to create the multiplication table (from 1 to 10) of a number."
   ]
  },
  {
   "cell_type": "code",
   "execution_count": 13,
   "metadata": {
    "collapsed": true
   },
   "outputs": [
    {
     "name": "stdout",
     "output_type": "stream",
     "text": [
      "12 x 1 = 12\n",
      "12 x 2 = 24\n",
      "12 x 3 = 36\n",
      "12 x 4 = 48\n",
      "12 x 5 = 60\n",
      "12 x 6 = 72\n",
      "12 x 7 = 84\n",
      "12 x 8 = 96\n",
      "12 x 9 = 108\n",
      "12 x 10 = 120\n"
     ]
    }
   ],
   "source": [
    "x = int(input(\"Input a number to create the multiplicatiom table : \"))\n",
    "\n",
    "for n in range(1,11):\n",
    "\n",
    "    print( x , 'x' , n , '=' , x * n )"
   ]
  },
  {
   "cell_type": "markdown",
   "metadata": {},
   "source": [
    "#### LESSER OF TWO EVENS: Write a function that returns the lesser of two given numbers *if* both numbers are even, but returns the greater if one or both numbers are odd\n",
    "    lesser_of_two_evens(2,4) --> 2\n",
    "    lesser_of_two_evens(2,5) --> 5"
   ]
  },
  {
   "cell_type": "code",
   "execution_count": 18,
   "metadata": {},
   "outputs": [
    {
     "data": {
      "text/plain": [
       "2"
      ]
     },
     "execution_count": 18,
     "metadata": {},
     "output_type": "execute_result"
    }
   ],
   "source": [
    "def lesser_of_two_evens(x,y):\n",
    "    if x % 2 == 0 and y % 2 == 0:\n",
    "        return min(x,y)\n",
    "    else:\n",
    "        return max(x,y)\n",
    "lesser_of_two_evens(2,4)\n",
    "\n",
    "\n",
    "\n"
   ]
  },
  {
   "cell_type": "code",
   "execution_count": 17,
   "metadata": {},
   "outputs": [
    {
     "data": {
      "text/plain": [
       "5"
      ]
     },
     "execution_count": 17,
     "metadata": {},
     "output_type": "execute_result"
    }
   ],
   "source": [
    "lesser_of_two_evens(2,5)"
   ]
  }
 ],
 "metadata": {
  "kernelspec": {
   "display_name": "Python 3.10.5 64-bit",
   "language": "python",
   "name": "python3"
  },
  "language_info": {
   "codemirror_mode": {
    "name": "ipython",
    "version": 3
   },
   "file_extension": ".py",
   "mimetype": "text/x-python",
   "name": "python",
   "nbconvert_exporter": "python",
   "pygments_lexer": "ipython3",
   "version": "3.10.5"
  },
  "vscode": {
   "interpreter": {
    "hash": "e593ac106456af50ce7af38f9671c411b49d6cd90f9b885e167f0f594e09038c"
   }
  }
 },
 "nbformat": 4,
 "nbformat_minor": 2
}
