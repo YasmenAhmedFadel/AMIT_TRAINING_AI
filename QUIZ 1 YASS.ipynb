{
 "cells": [
  {
   "cell_type": "markdown",
   "metadata": {
    "collapsed": true
   },
   "source": [
    "# QUIZ\n",
    "Let's test your knowledge!"
   ]
  },
  {
   "cell_type": "markdown",
   "metadata": {},
   "source": [
    "_____\n",
    "**Use <code>for</code>, .split(), and <code>if</code> to create a Statement that will print out words that start with 's':**"
   ]
  },
  {
   "cell_type": "code",
   "execution_count": 49,
   "metadata": {},
   "outputs": [
    {
     "name": "stdout",
     "output_type": "stream",
     "text": [
      "start\n",
      "s\n",
      "sentence\n"
     ]
    }
   ],
   "source": [
    "st = 'Print only the words that start with s in this sentence'\n",
    "st=st.split() # put the string value into split to calarify them\n",
    "for char in st: # for loop to check if first element in word equal s letter or not\n",
    "    if char[0] == \"s\": \n",
    "        print(char) #print the value character that was being comprised\n",
    "        \n"
   ]
  },
  {
   "cell_type": "code",
   "execution_count": null,
   "metadata": {},
   "outputs": [],
   "source": [
    "#Code here"
   ]
  },
  {
   "cell_type": "markdown",
   "metadata": {},
   "source": [
    "______\n",
    "**Use range() to print all the even numbers from 0 to 10.**"
   ]
  },
  {
   "cell_type": "code",
   "execution_count": 61,
   "metadata": {},
   "outputs": [
    {
     "name": "stdout",
     "output_type": "stream",
     "text": [
      "[0, 1, 2, 3, 4, 5, 6, 7, 8, 9]\n",
      "0\n",
      "2\n",
      "4\n",
      "6\n",
      "8\n"
     ]
    }
   ],
   "source": [
    "c=list(range(0,10))\n",
    "print(c)\n",
    "for num in c:\n",
    "     if num % 2 == 0:\n",
    "        print(num)"
   ]
  },
  {
   "cell_type": "markdown",
   "metadata": {},
   "source": [
    "___\n",
    "**Use a List Comprehension to create a list of all numbers between 1 and 50 that are divisible by 3.**"
   ]
  },
  {
   "cell_type": "code",
   "execution_count": 63,
   "metadata": {},
   "outputs": [
    {
     "name": "stdout",
     "output_type": "stream",
     "text": [
      "[1, 2, 3, 4, 5, 6, 7, 8, 9, 10, 11, 12, 13, 14, 15, 16, 17, 18, 19, 20, 21, 22, 23, 24, 25, 26, 27, 28, 29, 30, 31, 32, 33, 34, 35, 36, 37, 38, 39, 40, 41, 42, 43, 44, 45, 46, 47, 48, 49]\n",
      "3\n",
      "6\n",
      "9\n",
      "12\n",
      "15\n",
      "18\n",
      "21\n",
      "24\n",
      "27\n",
      "30\n",
      "33\n",
      "36\n",
      "39\n",
      "42\n",
      "45\n",
      "48\n"
     ]
    }
   ],
   "source": [
    "#Code Here\n",
    "x=list(range(1,50))\n",
    "print(x)\n",
    "for num in x:\n",
    "    if num % 3 ==0:\n",
    "        print(num)"
   ]
  },
  {
   "cell_type": "markdown",
   "metadata": {},
   "source": [
    "_____\n",
    "**Go through the string below and if the length of a word is even print \"even!\"**"
   ]
  },
  {
   "cell_type": "code",
   "execution_count": 24,
   "metadata": {},
   "outputs": [
    {
     "name": "stdout",
     "output_type": "stream",
     "text": [
      "even\n"
     ]
    }
   ],
   "source": [
    "st = 'Print every word in this sentence that has an even number of letters'\n",
    "if len(st) % 2==0:\n",
    "    print('even')\n",
    "    #make len to get the length of strring words"
   ]
  },
  {
   "cell_type": "code",
   "execution_count": null,
   "metadata": {},
   "outputs": [],
   "source": [
    "#Code in this cell"
   ]
  },
  {
   "cell_type": "markdown",
   "metadata": {},
   "source": [
    "____\n",
    "**Write a program that prints the integers from 1 to 100. But for multiples of three print \"Fizz\" instead of the number, and for the multiples of five print \"Buzz\". For numbers which are multiples of both three and five print \"FizzBuzz\".**"
   ]
  },
  {
   "cell_type": "code",
   "execution_count": 32,
   "metadata": {},
   "outputs": [
    {
     "name": "stdout",
     "output_type": "stream",
     "text": [
      "[1, 2, 3, 4, 5, 6, 7, 8, 9, 10, 11, 12, 13, 14, 15, 16, 17, 18, 19, 20, 21, 22, 23, 24, 25, 26, 27, 28, 29, 30, 31, 32, 33, 34, 35, 36, 37, 38, 39, 40, 41, 42, 43, 44, 45, 46, 47, 48, 49, 50, 51, 52, 53, 54, 55, 56, 57, 58, 59, 60, 61, 62, 63, 64, 65, 66, 67, 68, 69, 70, 71, 72, 73, 74, 75, 76, 77, 78, 79, 80, 81, 82, 83, 84, 85, 86, 87, 88, 89, 90, 91, 92, 93, 94, 95, 96, 97, 98, 99, 100]\n",
      "fizz\n",
      "1\n",
      "fizz\n",
      "2\n",
      "fizz\n",
      "3\n",
      "fizz\n",
      "4\n",
      "fizz buzz\n",
      "5\n",
      "fizz\n",
      "6\n",
      "fizz\n",
      "7\n",
      "fizz\n",
      "8\n",
      "fizz\n",
      "9\n",
      "fizz buzz\n",
      "10\n",
      "fizz\n",
      "11\n",
      "fizz\n",
      "12\n",
      "fizz\n",
      "13\n",
      "fizz\n",
      "14\n",
      "buzz\n",
      "15\n",
      "fizz\n",
      "16\n",
      "fizz\n",
      "17\n",
      "fizz\n",
      "18\n",
      "fizz\n",
      "19\n",
      "fizz buzz\n",
      "20\n",
      "fizz\n",
      "21\n",
      "fizz\n",
      "22\n",
      "fizz\n",
      "23\n",
      "fizz\n",
      "24\n",
      "fizz buzz\n",
      "25\n",
      "fizz\n",
      "26\n",
      "fizz\n",
      "27\n",
      "fizz\n",
      "28\n",
      "fizz\n",
      "29\n",
      "buzz\n",
      "30\n",
      "fizz\n",
      "31\n",
      "fizz\n",
      "32\n",
      "fizz\n",
      "33\n",
      "fizz\n",
      "34\n",
      "fizz buzz\n",
      "35\n",
      "fizz\n",
      "36\n",
      "fizz\n",
      "37\n",
      "fizz\n",
      "38\n",
      "fizz\n",
      "39\n",
      "fizz buzz\n",
      "40\n",
      "fizz\n",
      "41\n",
      "fizz\n",
      "42\n",
      "fizz\n",
      "43\n",
      "fizz\n",
      "44\n",
      "buzz\n",
      "45\n",
      "fizz\n",
      "46\n",
      "fizz\n",
      "47\n",
      "fizz\n",
      "48\n",
      "fizz\n",
      "49\n",
      "fizz buzz\n",
      "50\n",
      "fizz\n",
      "51\n",
      "fizz\n",
      "52\n",
      "fizz\n",
      "53\n",
      "fizz\n",
      "54\n",
      "fizz buzz\n",
      "55\n",
      "fizz\n",
      "56\n",
      "fizz\n",
      "57\n",
      "fizz\n",
      "58\n",
      "fizz\n",
      "59\n",
      "buzz\n",
      "60\n",
      "fizz\n",
      "61\n",
      "fizz\n",
      "62\n",
      "fizz\n",
      "63\n",
      "fizz\n",
      "64\n",
      "fizz buzz\n",
      "65\n",
      "fizz\n",
      "66\n",
      "fizz\n",
      "67\n",
      "fizz\n",
      "68\n",
      "fizz\n",
      "69\n",
      "fizz buzz\n",
      "70\n",
      "fizz\n",
      "71\n",
      "fizz\n",
      "72\n",
      "fizz\n",
      "73\n",
      "fizz\n",
      "74\n",
      "buzz\n",
      "75\n",
      "fizz\n",
      "76\n",
      "fizz\n",
      "77\n",
      "fizz\n",
      "78\n",
      "fizz\n",
      "79\n",
      "fizz buzz\n",
      "80\n",
      "fizz\n",
      "81\n",
      "fizz\n",
      "82\n",
      "fizz\n",
      "83\n",
      "fizz\n",
      "84\n",
      "fizz buzz\n",
      "85\n",
      "fizz\n",
      "86\n",
      "fizz\n",
      "87\n",
      "fizz\n",
      "88\n",
      "fizz\n",
      "89\n",
      "buzz\n",
      "90\n",
      "fizz\n",
      "91\n",
      "fizz\n",
      "92\n",
      "fizz\n",
      "93\n",
      "fizz\n",
      "94\n",
      "fizz buzz\n",
      "95\n",
      "fizz\n",
      "96\n",
      "fizz\n",
      "97\n",
      "fizz\n",
      "98\n",
      "fizz\n",
      "99\n",
      "fizz buzz\n",
      "100\n"
     ]
    }
   ],
   "source": [
    "#Code in this cell\n",
    "y=list(range(1,101))\n",
    "print(y)\n",
    "\n",
    "# make a list to print the numbers from 1 too 100\n",
    "\n",
    "for num in y:\n",
    "\n",
    "    # for loop to pass along th hundred number\n",
    "\n",
    "    if num % 3 and num %5 == 0:\n",
    "     print(\"fizz buzz\")\n",
    "     print(num)\n",
    "\n",
    "     # condition to check number ability to mul by 5 and 3 and print the fizz buzz word\n",
    "    \n",
    "    elif num % 5 == 0:\n",
    "     print(\"buzz\")\n",
    "     print(num)\n",
    "\n",
    "     #condition to check number ability to mul by 3  and print the buzz word\n",
    "    \n",
    "    else:\n",
    "     print(\"fizz\")\n",
    "     print(num)\n",
    "\n",
    "     #condition to check number ability to mul by 3 and print the fizz  word\n",
    "    "
   ]
  },
  {
   "cell_type": "markdown",
   "metadata": {},
   "source": [
    "____\n",
    "**Use List Comprehension to create a list of the first letters of every word in the string below:**"
   ]
  },
  {
   "cell_type": "code",
   "execution_count": 67,
   "metadata": {},
   "outputs": [
    {
     "name": "stdout",
     "output_type": "stream",
     "text": [
      "C\n",
      "a\n",
      "l\n",
      "o\n",
      "t\n",
      "f\n",
      "l\n",
      "o\n",
      "e\n",
      "w\n",
      "i\n",
      "t\n",
      "s\n"
     ]
    }
   ],
   "source": [
    "st = 'Create a list of the first letters of every word in this string'\n",
    "st=st.split() \n",
    "# put the strings value into split to calarify them\n",
    "for list in st: \n",
    "    # for loop to pass along the  string get the first letter of list\n",
    "    print(list[0]) \n",
    "         \n",
    "        "
   ]
  },
  {
   "cell_type": "code",
   "execution_count": null,
   "metadata": {},
   "outputs": [],
   "source": [
    "#Code in this cell"
   ]
  },
  {
   "cell_type": "markdown",
   "metadata": {},
   "source": [
    "### Great Job!"
   ]
  }
 ],
 "metadata": {
  "kernelspec": {
   "display_name": "Python 3 (ipykernel)",
   "language": "python",
   "name": "python3"
  },
  "language_info": {
   "codemirror_mode": {
    "name": "ipython",
    "version": 3
   },
   "file_extension": ".py",
   "mimetype": "text/x-python",
   "name": "python",
   "nbconvert_exporter": "python",
   "pygments_lexer": "ipython3",
   "version": "3.9.7"
  }
 },
 "nbformat": 4,
 "nbformat_minor": 1
}
